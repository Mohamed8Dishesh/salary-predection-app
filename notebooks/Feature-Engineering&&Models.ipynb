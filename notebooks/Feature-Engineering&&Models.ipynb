{
 "cells": [
  {
   "cell_type": "markdown",
   "id": "87c818c1",
   "metadata": {},
   "source": [
    "<h1><center><font size=\"5\">Salary Prediction App</font></center></h1>\n",
    "<center><img src=\"../images/image.png\" width=\"600\"></img></center>\n"
   ]
  },
  {
   "cell_type": "markdown",
   "id": "d56c5ed9",
   "metadata": {},
   "source": [
    "# Table of Contents\n",
    "\n",
    "<a id=\"toc\"></a>\n",
    "- [1. Set-up](#1)\n",
    "    - [1.1 Import Libraries](#1.1)\n",
    "    - [1.2 Import Data](#1.2)\n",
    "    \n",
    "    \n",
    "    \n",
    "- [2. Feature Engineering](#2)\n",
    "    \n",
    "    \n",
    "    \n",
    "- [3. Encoding Categorical Variables](#3)\n",
    "    \n",
    "    \n",
    "    \n",
    "- [4. Scaling Numeric Features](#4)\n",
    "\n",
    "\n",
    "- [5. Train-Test Split](#5)\n",
    "\n",
    "\n",
    "\n",
    "- [6. Save Processed Data](#6)\n",
    "\n",
    "\n",
    "\n",
    "\n",
    "- [7. Load Processed Train and Test Sets](#7)\n",
    "\n",
    "\n",
    "\n",
    "\n",
    "- [8. Define and Train Models](#8)\n",
    "\n",
    "\n",
    "\n",
    "\n",
    "- [9. Select and Save the Best Model](#9)"
   ]
  },
  {
   "cell_type": "markdown",
   "id": "f86c6570",
   "metadata": {},
   "source": [
    "<a id=\"1.1\"></a>\n",
    "## <b>1.1 <span style='color:#2b4f92'>Import Libraries</span></b> "
   ]
  },
  {
   "cell_type": "code",
   "execution_count": 32,
   "id": "7c8dca98",
   "metadata": {},
   "outputs": [],
   "source": [
    "import pandas as pd\n",
    "import numpy as np\n",
    "import json\n",
    "from sklearn.preprocessing import StandardScaler, LabelEncoder\n",
    "from sklearn.model_selection import train_test_split\n",
    "import joblib\n",
    "from sklearn.linear_model import LinearRegression\n",
    "from sklearn.ensemble import RandomForestRegressor\n",
    "from xgboost import XGBRegressor\n",
    "from sklearn.metrics import mean_squared_error, r2_score\n",
    "from sklearn.model_selection import cross_val_score"
   ]
  },
  {
   "cell_type": "markdown",
   "id": "a2889575",
   "metadata": {},
   "source": [
    "<a id=\"1.2\"></a>\n",
    "## <b>1.2 <span style='color:#2b4f92'>Import Data</span></b> "
   ]
  },
  {
   "cell_type": "code",
   "execution_count": 7,
   "id": "8544dccd",
   "metadata": {},
   "outputs": [],
   "source": [
    "# Load the cleaned dataset\n",
    "data_path = r\"D:\\SpaceCode_GraduationProject\\Salary_After_Cleaning.csv\"\n",
    "df = pd.read_csv(data_path)"
   ]
  },
  {
   "cell_type": "markdown",
   "id": "5356fa1e",
   "metadata": {},
   "source": [
    "<a id=\"2\"></a>\n",
    "## <b>2 <span style='color:#2b4f92'>Feature Engineering</span></b> "
   ]
  },
  {
   "cell_type": "code",
   "execution_count": 8,
   "id": "d5461274",
   "metadata": {},
   "outputs": [],
   "source": [
    "# Create new feature: Experience-to-Age Ratio\n",
    "df['Experience_to_Age_Ratio'] = df['Years of Experience'] / df['Age']"
   ]
  },
  {
   "cell_type": "code",
   "execution_count": 9,
   "id": "649114a8",
   "metadata": {},
   "outputs": [
    {
     "data": {
      "text/html": [
       "<div>\n",
       "<style scoped>\n",
       "    .dataframe tbody tr th:only-of-type {\n",
       "        vertical-align: middle;\n",
       "    }\n",
       "\n",
       "    .dataframe tbody tr th {\n",
       "        vertical-align: top;\n",
       "    }\n",
       "\n",
       "    .dataframe thead th {\n",
       "        text-align: right;\n",
       "    }\n",
       "</style>\n",
       "<table border=\"1\" class=\"dataframe\">\n",
       "  <thead>\n",
       "    <tr style=\"text-align: right;\">\n",
       "      <th></th>\n",
       "      <th>Age</th>\n",
       "      <th>Gender</th>\n",
       "      <th>Education Level</th>\n",
       "      <th>Job Title</th>\n",
       "      <th>Years of Experience</th>\n",
       "      <th>Salary</th>\n",
       "      <th>Country</th>\n",
       "      <th>Race</th>\n",
       "      <th>Senior</th>\n",
       "      <th>Experience_to_Age_Ratio</th>\n",
       "    </tr>\n",
       "  </thead>\n",
       "  <tbody>\n",
       "    <tr>\n",
       "      <th>0</th>\n",
       "      <td>32.0</td>\n",
       "      <td>Male</td>\n",
       "      <td>1</td>\n",
       "      <td>Software Engineer</td>\n",
       "      <td>5.0</td>\n",
       "      <td>90000.0</td>\n",
       "      <td>UK</td>\n",
       "      <td>White</td>\n",
       "      <td>0</td>\n",
       "      <td>0.156250</td>\n",
       "    </tr>\n",
       "    <tr>\n",
       "      <th>1</th>\n",
       "      <td>28.0</td>\n",
       "      <td>Female</td>\n",
       "      <td>2</td>\n",
       "      <td>Data Analyst</td>\n",
       "      <td>3.0</td>\n",
       "      <td>65000.0</td>\n",
       "      <td>USA</td>\n",
       "      <td>Hispanic</td>\n",
       "      <td>0</td>\n",
       "      <td>0.107143</td>\n",
       "    </tr>\n",
       "    <tr>\n",
       "      <th>2</th>\n",
       "      <td>45.0</td>\n",
       "      <td>Male</td>\n",
       "      <td>3</td>\n",
       "      <td>Manager</td>\n",
       "      <td>15.0</td>\n",
       "      <td>150000.0</td>\n",
       "      <td>Canada</td>\n",
       "      <td>White</td>\n",
       "      <td>1</td>\n",
       "      <td>0.333333</td>\n",
       "    </tr>\n",
       "    <tr>\n",
       "      <th>3</th>\n",
       "      <td>36.0</td>\n",
       "      <td>Female</td>\n",
       "      <td>1</td>\n",
       "      <td>Sales Associate</td>\n",
       "      <td>7.0</td>\n",
       "      <td>60000.0</td>\n",
       "      <td>USA</td>\n",
       "      <td>Hispanic</td>\n",
       "      <td>0</td>\n",
       "      <td>0.194444</td>\n",
       "    </tr>\n",
       "    <tr>\n",
       "      <th>4</th>\n",
       "      <td>52.0</td>\n",
       "      <td>Male</td>\n",
       "      <td>2</td>\n",
       "      <td>Director</td>\n",
       "      <td>20.0</td>\n",
       "      <td>200000.0</td>\n",
       "      <td>USA</td>\n",
       "      <td>Asian</td>\n",
       "      <td>0</td>\n",
       "      <td>0.384615</td>\n",
       "    </tr>\n",
       "  </tbody>\n",
       "</table>\n",
       "</div>"
      ],
      "text/plain": [
       "    Age  Gender  Education Level          Job Title  Years of Experience  \\\n",
       "0  32.0    Male                1  Software Engineer                  5.0   \n",
       "1  28.0  Female                2       Data Analyst                  3.0   \n",
       "2  45.0    Male                3            Manager                 15.0   \n",
       "3  36.0  Female                1    Sales Associate                  7.0   \n",
       "4  52.0    Male                2           Director                 20.0   \n",
       "\n",
       "     Salary Country      Race  Senior  Experience_to_Age_Ratio  \n",
       "0   90000.0      UK     White       0                 0.156250  \n",
       "1   65000.0     USA  Hispanic       0                 0.107143  \n",
       "2  150000.0  Canada     White       1                 0.333333  \n",
       "3   60000.0     USA  Hispanic       0                 0.194444  \n",
       "4  200000.0     USA     Asian       0                 0.384615  "
      ]
     },
     "execution_count": 9,
     "metadata": {},
     "output_type": "execute_result"
    }
   ],
   "source": [
    "df.head()"
   ]
  },
  {
   "cell_type": "markdown",
   "id": "69be0b2e",
   "metadata": {},
   "source": [
    "<a id=\"3\"></a>\n",
    "## <b>3 <span style='color:#2b4f92'>Encoding Categorical Variables</span></b> "
   ]
  },
  {
   "cell_type": "code",
   "execution_count": 10,
   "id": "61fbce17",
   "metadata": {},
   "outputs": [],
   "source": [
    "# Label Encoding for Gender (Male=0, Female=1)\n",
    "le = LabelEncoder()\n",
    "df['Gender_Encoded'] = le.fit_transform(df['Gender'])"
   ]
  },
  {
   "cell_type": "code",
   "execution_count": 12,
   "id": "db0ea014",
   "metadata": {},
   "outputs": [],
   "source": [
    "# One-Hot Encoding for Country and Race\n",
    "df = pd.get_dummies(df, columns=['Country', 'Race'], drop_first=True)"
   ]
  },
  {
   "cell_type": "code",
   "execution_count": 13,
   "id": "560ea871",
   "metadata": {},
   "outputs": [],
   "source": [
    "# Label Encoding for Job Title (assign unique number to each of the 129 job titles)\n",
    "le_job_title = LabelEncoder()\n",
    "df['Job_Title_Encoded'] = le_job_title.fit_transform(df['Job Title'])"
   ]
  },
  {
   "cell_type": "code",
   "execution_count": 19,
   "id": "5f6fa3f8",
   "metadata": {},
   "outputs": [
    {
     "name": "stdout",
     "output_type": "stream",
     "text": [
      "Job Title mapping saved to: D:\\SpaceCode_GraduationProject\\job_title_mapping.json\n"
     ]
    }
   ],
   "source": [
    "# Save the Job Title mapping for use in the app\n",
    "job_title_mapping = dict(zip(le_job_title.classes_, range(len(le_job_title.classes_))))\n",
    "with open(r\"D:\\SpaceCode_GraduationProject\\job_title_mapping.json\", 'w') as f:\n",
    "    json.dump(job_title_mapping, f)\n",
    "print(\"Job Title mapping saved to: D:\\\\SpaceCode_GraduationProject\\\\job_title_mapping.json\")"
   ]
  },
  {
   "cell_type": "code",
   "execution_count": 42,
   "id": "a5b94794",
   "metadata": {},
   "outputs": [
    {
     "name": "stdout",
     "output_type": "stream",
     "text": [
      "Gender and Job Title encoders saved.\n"
     ]
    }
   ],
   "source": [
    "# Save Label Encoders\n",
    "joblib.dump(le, r\"D:\\SpaceCode_GraduationProject\\gender_encoder.pkl\")\n",
    "joblib.dump(le_job_title, r\"D:\\SpaceCode_GraduationProject\\job_title_encoder.pkl\")\n",
    "print(\"Gender and Job Title encoders saved.\")"
   ]
  },
  {
   "cell_type": "code",
   "execution_count": 22,
   "id": "c223a052",
   "metadata": {},
   "outputs": [],
   "source": [
    "# Drop original categorical columns after encoding\n",
    "df = df.drop(['Gender', 'Job Title'], axis=1)"
   ]
  },
  {
   "cell_type": "code",
   "execution_count": 23,
   "id": "42d89943",
   "metadata": {},
   "outputs": [
    {
     "data": {
      "text/html": [
       "<div>\n",
       "<style scoped>\n",
       "    .dataframe tbody tr th:only-of-type {\n",
       "        vertical-align: middle;\n",
       "    }\n",
       "\n",
       "    .dataframe tbody tr th {\n",
       "        vertical-align: top;\n",
       "    }\n",
       "\n",
       "    .dataframe thead th {\n",
       "        text-align: right;\n",
       "    }\n",
       "</style>\n",
       "<table border=\"1\" class=\"dataframe\">\n",
       "  <thead>\n",
       "    <tr style=\"text-align: right;\">\n",
       "      <th></th>\n",
       "      <th>Age</th>\n",
       "      <th>Education Level</th>\n",
       "      <th>Years of Experience</th>\n",
       "      <th>Salary</th>\n",
       "      <th>Senior</th>\n",
       "      <th>Experience_to_Age_Ratio</th>\n",
       "      <th>Gender_Encoded</th>\n",
       "      <th>Country_Canada</th>\n",
       "      <th>Country_China</th>\n",
       "      <th>Country_UK</th>\n",
       "      <th>...</th>\n",
       "      <th>Race_Asian</th>\n",
       "      <th>Race_Australian</th>\n",
       "      <th>Race_Black</th>\n",
       "      <th>Race_Chinese</th>\n",
       "      <th>Race_Hispanic</th>\n",
       "      <th>Race_Korean</th>\n",
       "      <th>Race_Mixed</th>\n",
       "      <th>Race_Welsh</th>\n",
       "      <th>Race_White</th>\n",
       "      <th>Job_Title_Encoded</th>\n",
       "    </tr>\n",
       "  </thead>\n",
       "  <tbody>\n",
       "    <tr>\n",
       "      <th>0</th>\n",
       "      <td>32.0</td>\n",
       "      <td>1</td>\n",
       "      <td>5.0</td>\n",
       "      <td>90000.0</td>\n",
       "      <td>0</td>\n",
       "      <td>0.156250</td>\n",
       "      <td>1</td>\n",
       "      <td>0</td>\n",
       "      <td>0</td>\n",
       "      <td>1</td>\n",
       "      <td>...</td>\n",
       "      <td>0</td>\n",
       "      <td>0</td>\n",
       "      <td>0</td>\n",
       "      <td>0</td>\n",
       "      <td>0</td>\n",
       "      <td>0</td>\n",
       "      <td>0</td>\n",
       "      <td>0</td>\n",
       "      <td>1</td>\n",
       "      <td>112</td>\n",
       "    </tr>\n",
       "    <tr>\n",
       "      <th>1</th>\n",
       "      <td>28.0</td>\n",
       "      <td>2</td>\n",
       "      <td>3.0</td>\n",
       "      <td>65000.0</td>\n",
       "      <td>0</td>\n",
       "      <td>0.107143</td>\n",
       "      <td>0</td>\n",
       "      <td>0</td>\n",
       "      <td>0</td>\n",
       "      <td>0</td>\n",
       "      <td>...</td>\n",
       "      <td>0</td>\n",
       "      <td>0</td>\n",
       "      <td>0</td>\n",
       "      <td>0</td>\n",
       "      <td>1</td>\n",
       "      <td>0</td>\n",
       "      <td>0</td>\n",
       "      <td>0</td>\n",
       "      <td>0</td>\n",
       "      <td>24</td>\n",
       "    </tr>\n",
       "    <tr>\n",
       "      <th>2</th>\n",
       "      <td>45.0</td>\n",
       "      <td>3</td>\n",
       "      <td>15.0</td>\n",
       "      <td>150000.0</td>\n",
       "      <td>1</td>\n",
       "      <td>0.333333</td>\n",
       "      <td>1</td>\n",
       "      <td>1</td>\n",
       "      <td>0</td>\n",
       "      <td>0</td>\n",
       "      <td>...</td>\n",
       "      <td>0</td>\n",
       "      <td>0</td>\n",
       "      <td>0</td>\n",
       "      <td>0</td>\n",
       "      <td>0</td>\n",
       "      <td>0</td>\n",
       "      <td>0</td>\n",
       "      <td>0</td>\n",
       "      <td>1</td>\n",
       "      <td>72</td>\n",
       "    </tr>\n",
       "    <tr>\n",
       "      <th>3</th>\n",
       "      <td>36.0</td>\n",
       "      <td>1</td>\n",
       "      <td>7.0</td>\n",
       "      <td>60000.0</td>\n",
       "      <td>0</td>\n",
       "      <td>0.194444</td>\n",
       "      <td>0</td>\n",
       "      <td>0</td>\n",
       "      <td>0</td>\n",
       "      <td>0</td>\n",
       "      <td>...</td>\n",
       "      <td>0</td>\n",
       "      <td>0</td>\n",
       "      <td>0</td>\n",
       "      <td>0</td>\n",
       "      <td>1</td>\n",
       "      <td>0</td>\n",
       "      <td>0</td>\n",
       "      <td>0</td>\n",
       "      <td>0</td>\n",
       "      <td>100</td>\n",
       "    </tr>\n",
       "    <tr>\n",
       "      <th>4</th>\n",
       "      <td>52.0</td>\n",
       "      <td>2</td>\n",
       "      <td>20.0</td>\n",
       "      <td>200000.0</td>\n",
       "      <td>0</td>\n",
       "      <td>0.384615</td>\n",
       "      <td>1</td>\n",
       "      <td>0</td>\n",
       "      <td>0</td>\n",
       "      <td>0</td>\n",
       "      <td>...</td>\n",
       "      <td>1</td>\n",
       "      <td>0</td>\n",
       "      <td>0</td>\n",
       "      <td>0</td>\n",
       "      <td>0</td>\n",
       "      <td>0</td>\n",
       "      <td>0</td>\n",
       "      <td>0</td>\n",
       "      <td>0</td>\n",
       "      <td>34</td>\n",
       "    </tr>\n",
       "  </tbody>\n",
       "</table>\n",
       "<p>5 rows × 21 columns</p>\n",
       "</div>"
      ],
      "text/plain": [
       "    Age  Education Level  Years of Experience    Salary  Senior  \\\n",
       "0  32.0                1                  5.0   90000.0       0   \n",
       "1  28.0                2                  3.0   65000.0       0   \n",
       "2  45.0                3                 15.0  150000.0       1   \n",
       "3  36.0                1                  7.0   60000.0       0   \n",
       "4  52.0                2                 20.0  200000.0       0   \n",
       "\n",
       "   Experience_to_Age_Ratio  Gender_Encoded  Country_Canada  Country_China  \\\n",
       "0                 0.156250               1               0              0   \n",
       "1                 0.107143               0               0              0   \n",
       "2                 0.333333               1               1              0   \n",
       "3                 0.194444               0               0              0   \n",
       "4                 0.384615               1               0              0   \n",
       "\n",
       "   Country_UK  ...  Race_Asian  Race_Australian  Race_Black  Race_Chinese  \\\n",
       "0           1  ...           0                0           0             0   \n",
       "1           0  ...           0                0           0             0   \n",
       "2           0  ...           0                0           0             0   \n",
       "3           0  ...           0                0           0             0   \n",
       "4           0  ...           1                0           0             0   \n",
       "\n",
       "   Race_Hispanic  Race_Korean  Race_Mixed  Race_Welsh  Race_White  \\\n",
       "0              0            0           0           0           1   \n",
       "1              1            0           0           0           0   \n",
       "2              0            0           0           0           1   \n",
       "3              1            0           0           0           0   \n",
       "4              0            0           0           0           0   \n",
       "\n",
       "   Job_Title_Encoded  \n",
       "0                112  \n",
       "1                 24  \n",
       "2                 72  \n",
       "3                100  \n",
       "4                 34  \n",
       "\n",
       "[5 rows x 21 columns]"
      ]
     },
     "execution_count": 23,
     "metadata": {},
     "output_type": "execute_result"
    }
   ],
   "source": [
    "df.head()"
   ]
  },
  {
   "cell_type": "markdown",
   "id": "8df23936",
   "metadata": {},
   "source": [
    "<a id=\"4\"></a>\n",
    "## <b>4 <span style='color:#2b4f92'>Scaling Numeric Features</span></b> "
   ]
  },
  {
   "cell_type": "code",
   "execution_count": 24,
   "id": "bdf62d50",
   "metadata": {},
   "outputs": [],
   "source": [
    "scaler = StandardScaler()\n",
    "numeric_cols = ['Age', 'Years of Experience', 'Education Level', 'Experience_to_Age_Ratio']\n",
    "df[numeric_cols] = scaler.fit_transform(df[numeric_cols])"
   ]
  },
  {
   "cell_type": "code",
   "execution_count": 43,
   "id": "672683e3",
   "metadata": {},
   "outputs": [
    {
     "name": "stdout",
     "output_type": "stream",
     "text": [
      "Scaler saved to: D:\\SpaceCode_GraduationProject\\scaler.pkl\n"
     ]
    }
   ],
   "source": [
    "# Save the Scaler\n",
    "joblib.dump(scaler, r\"D:\\SpaceCode_GraduationProject\\scaler.pkl\")\n",
    "print(\"Scaler saved to: D:\\\\SpaceCode_GraduationProject\\\\scaler.pkl\")"
   ]
  },
  {
   "cell_type": "code",
   "execution_count": 25,
   "id": "32c5ad53",
   "metadata": {},
   "outputs": [
    {
     "data": {
      "text/html": [
       "<div>\n",
       "<style scoped>\n",
       "    .dataframe tbody tr th:only-of-type {\n",
       "        vertical-align: middle;\n",
       "    }\n",
       "\n",
       "    .dataframe tbody tr th {\n",
       "        vertical-align: top;\n",
       "    }\n",
       "\n",
       "    .dataframe thead th {\n",
       "        text-align: right;\n",
       "    }\n",
       "</style>\n",
       "<table border=\"1\" class=\"dataframe\">\n",
       "  <thead>\n",
       "    <tr style=\"text-align: right;\">\n",
       "      <th></th>\n",
       "      <th>Age</th>\n",
       "      <th>Education Level</th>\n",
       "      <th>Years of Experience</th>\n",
       "      <th>Salary</th>\n",
       "      <th>Senior</th>\n",
       "      <th>Experience_to_Age_Ratio</th>\n",
       "      <th>Gender_Encoded</th>\n",
       "      <th>Country_Canada</th>\n",
       "      <th>Country_China</th>\n",
       "      <th>Country_UK</th>\n",
       "      <th>...</th>\n",
       "      <th>Race_Asian</th>\n",
       "      <th>Race_Australian</th>\n",
       "      <th>Race_Black</th>\n",
       "      <th>Race_Chinese</th>\n",
       "      <th>Race_Hispanic</th>\n",
       "      <th>Race_Korean</th>\n",
       "      <th>Race_Mixed</th>\n",
       "      <th>Race_Welsh</th>\n",
       "      <th>Race_White</th>\n",
       "      <th>Job_Title_Encoded</th>\n",
       "    </tr>\n",
       "  </thead>\n",
       "  <tbody>\n",
       "    <tr>\n",
       "      <th>0</th>\n",
       "      <td>-0.257812</td>\n",
       "      <td>-0.726009</td>\n",
       "      <td>-0.535323</td>\n",
       "      <td>90000.0</td>\n",
       "      <td>0</td>\n",
       "      <td>-0.516570</td>\n",
       "      <td>1</td>\n",
       "      <td>0</td>\n",
       "      <td>0</td>\n",
       "      <td>1</td>\n",
       "      <td>...</td>\n",
       "      <td>0</td>\n",
       "      <td>0</td>\n",
       "      <td>0</td>\n",
       "      <td>0</td>\n",
       "      <td>0</td>\n",
       "      <td>0</td>\n",
       "      <td>0</td>\n",
       "      <td>0</td>\n",
       "      <td>1</td>\n",
       "      <td>112</td>\n",
       "    </tr>\n",
       "    <tr>\n",
       "      <th>1</th>\n",
       "      <td>-0.773134</td>\n",
       "      <td>0.406909</td>\n",
       "      <td>-0.856198</td>\n",
       "      <td>65000.0</td>\n",
       "      <td>0</td>\n",
       "      <td>-0.910723</td>\n",
       "      <td>0</td>\n",
       "      <td>0</td>\n",
       "      <td>0</td>\n",
       "      <td>0</td>\n",
       "      <td>...</td>\n",
       "      <td>0</td>\n",
       "      <td>0</td>\n",
       "      <td>0</td>\n",
       "      <td>0</td>\n",
       "      <td>1</td>\n",
       "      <td>0</td>\n",
       "      <td>0</td>\n",
       "      <td>0</td>\n",
       "      <td>0</td>\n",
       "      <td>24</td>\n",
       "    </tr>\n",
       "    <tr>\n",
       "      <th>2</th>\n",
       "      <td>1.416988</td>\n",
       "      <td>1.539827</td>\n",
       "      <td>1.069056</td>\n",
       "      <td>150000.0</td>\n",
       "      <td>1</td>\n",
       "      <td>0.904768</td>\n",
       "      <td>1</td>\n",
       "      <td>1</td>\n",
       "      <td>0</td>\n",
       "      <td>0</td>\n",
       "      <td>...</td>\n",
       "      <td>0</td>\n",
       "      <td>0</td>\n",
       "      <td>0</td>\n",
       "      <td>0</td>\n",
       "      <td>0</td>\n",
       "      <td>0</td>\n",
       "      <td>0</td>\n",
       "      <td>0</td>\n",
       "      <td>1</td>\n",
       "      <td>72</td>\n",
       "    </tr>\n",
       "    <tr>\n",
       "      <th>3</th>\n",
       "      <td>0.257511</td>\n",
       "      <td>-0.726009</td>\n",
       "      <td>-0.214447</td>\n",
       "      <td>60000.0</td>\n",
       "      <td>0</td>\n",
       "      <td>-0.210007</td>\n",
       "      <td>0</td>\n",
       "      <td>0</td>\n",
       "      <td>0</td>\n",
       "      <td>0</td>\n",
       "      <td>...</td>\n",
       "      <td>0</td>\n",
       "      <td>0</td>\n",
       "      <td>0</td>\n",
       "      <td>0</td>\n",
       "      <td>1</td>\n",
       "      <td>0</td>\n",
       "      <td>0</td>\n",
       "      <td>0</td>\n",
       "      <td>0</td>\n",
       "      <td>100</td>\n",
       "    </tr>\n",
       "    <tr>\n",
       "      <th>4</th>\n",
       "      <td>2.318803</td>\n",
       "      <td>0.406909</td>\n",
       "      <td>1.871245</td>\n",
       "      <td>200000.0</td>\n",
       "      <td>0</td>\n",
       "      <td>1.316378</td>\n",
       "      <td>1</td>\n",
       "      <td>0</td>\n",
       "      <td>0</td>\n",
       "      <td>0</td>\n",
       "      <td>...</td>\n",
       "      <td>1</td>\n",
       "      <td>0</td>\n",
       "      <td>0</td>\n",
       "      <td>0</td>\n",
       "      <td>0</td>\n",
       "      <td>0</td>\n",
       "      <td>0</td>\n",
       "      <td>0</td>\n",
       "      <td>0</td>\n",
       "      <td>34</td>\n",
       "    </tr>\n",
       "  </tbody>\n",
       "</table>\n",
       "<p>5 rows × 21 columns</p>\n",
       "</div>"
      ],
      "text/plain": [
       "        Age  Education Level  Years of Experience    Salary  Senior  \\\n",
       "0 -0.257812        -0.726009            -0.535323   90000.0       0   \n",
       "1 -0.773134         0.406909            -0.856198   65000.0       0   \n",
       "2  1.416988         1.539827             1.069056  150000.0       1   \n",
       "3  0.257511        -0.726009            -0.214447   60000.0       0   \n",
       "4  2.318803         0.406909             1.871245  200000.0       0   \n",
       "\n",
       "   Experience_to_Age_Ratio  Gender_Encoded  Country_Canada  Country_China  \\\n",
       "0                -0.516570               1               0              0   \n",
       "1                -0.910723               0               0              0   \n",
       "2                 0.904768               1               1              0   \n",
       "3                -0.210007               0               0              0   \n",
       "4                 1.316378               1               0              0   \n",
       "\n",
       "   Country_UK  ...  Race_Asian  Race_Australian  Race_Black  Race_Chinese  \\\n",
       "0           1  ...           0                0           0             0   \n",
       "1           0  ...           0                0           0             0   \n",
       "2           0  ...           0                0           0             0   \n",
       "3           0  ...           0                0           0             0   \n",
       "4           0  ...           1                0           0             0   \n",
       "\n",
       "   Race_Hispanic  Race_Korean  Race_Mixed  Race_Welsh  Race_White  \\\n",
       "0              0            0           0           0           1   \n",
       "1              1            0           0           0           0   \n",
       "2              0            0           0           0           1   \n",
       "3              1            0           0           0           0   \n",
       "4              0            0           0           0           0   \n",
       "\n",
       "   Job_Title_Encoded  \n",
       "0                112  \n",
       "1                 24  \n",
       "2                 72  \n",
       "3                100  \n",
       "4                 34  \n",
       "\n",
       "[5 rows x 21 columns]"
      ]
     },
     "execution_count": 25,
     "metadata": {},
     "output_type": "execute_result"
    }
   ],
   "source": [
    "df.head()"
   ]
  },
  {
   "cell_type": "markdown",
   "id": "a17e74a7",
   "metadata": {},
   "source": [
    "<a href=\"#toc\" role=\"button\" aria-pressed=\"true\" >🔝Back to Table of Contents🔝</a>"
   ]
  },
  {
   "cell_type": "markdown",
   "id": "647a80c0",
   "metadata": {},
   "source": [
    "<a id=\"5\"></a>\n",
    "## <b>5 <span style='color:#2b4f92'>Train-Test Split</span></b> "
   ]
  },
  {
   "cell_type": "code",
   "execution_count": 26,
   "id": "2a2cbe4b",
   "metadata": {},
   "outputs": [],
   "source": [
    "# Define features (X) and target (y)\n",
    "X = df.drop('Salary', axis=1)\n",
    "y = df['Salary']"
   ]
  },
  {
   "cell_type": "code",
   "execution_count": 27,
   "id": "881b879c",
   "metadata": {},
   "outputs": [],
   "source": [
    "# Split data into training and testing sets (80-20 split)\n",
    "X_train, X_test, y_train, y_test = train_test_split(X, y, test_size=0.2, random_state=42)"
   ]
  },
  {
   "cell_type": "markdown",
   "id": "1e11ea29",
   "metadata": {},
   "source": [
    "<a id=\"6\"></a>\n",
    "## <b>6 <span style='color:#2b4f92'>Save Processed Data</span></b>"
   ]
  },
  {
   "cell_type": "code",
   "execution_count": 28,
   "id": "07b74271",
   "metadata": {},
   "outputs": [
    {
     "name": "stdout",
     "output_type": "stream",
     "text": [
      "\n",
      "Processed dataset saved to: D:\\SpaceCode_GraduationProject\\Salary_Processed_LabelEncoded.csv\n"
     ]
    }
   ],
   "source": [
    "processed_data_path = r\"D:\\SpaceCode_GraduationProject\\Salary_Processed_LabelEncoded.csv\"\n",
    "df.to_csv(processed_data_path, index=False)\n",
    "print(f\"\\nProcessed dataset saved to: {processed_data_path}\")"
   ]
  },
  {
   "cell_type": "code",
   "execution_count": 29,
   "id": "1e67e223",
   "metadata": {},
   "outputs": [
    {
     "name": "stdout",
     "output_type": "stream",
     "text": [
      "Train and test sets saved to: D:\\SpaceCode_GraduationProject\\\n"
     ]
    }
   ],
   "source": [
    "# Save train and test sets for modeling\n",
    "X_train.to_csv(r\"D:\\SpaceCode_GraduationProject\\X_train_LabelEncoded.csv\", index=False)\n",
    "X_test.to_csv(r\"D:\\SpaceCode_GraduationProject\\X_test_LabelEncoded.csv\", index=False)\n",
    "y_train.to_csv(r\"D:\\SpaceCode_GraduationProject\\y_train_LabelEncoded.csv\", index=False)\n",
    "y_test.to_csv(r\"D:\\SpaceCode_GraduationProject\\y_test_LabelEncoded.csv\", index=False)\n",
    "print(f\"Train and test sets saved to: D:\\\\SpaceCode_GraduationProject\\\\\")"
   ]
  },
  {
   "cell_type": "markdown",
   "id": "f4768233",
   "metadata": {},
   "source": [
    "<a id=\"7\"></a>\n",
    "## <b>7 <span style='color:#2b4f92'>Load Processed Train and Test Sets</span></b>"
   ]
  },
  {
   "cell_type": "code",
   "execution_count": 33,
   "id": "69cd88c5",
   "metadata": {},
   "outputs": [],
   "source": [
    "X_train = pd.read_csv(r\"D:\\SpaceCode_GraduationProject\\X_train_LabelEncoded.csv\")\n",
    "X_test = pd.read_csv(r\"D:\\SpaceCode_GraduationProject\\X_test_LabelEncoded.csv\")\n",
    "y_train = pd.read_csv(r\"D:\\SpaceCode_GraduationProject\\y_train_LabelEncoded.csv\")\n",
    "y_test = pd.read_csv(r\"D:\\SpaceCode_GraduationProject\\y_test_LabelEncoded.csv\")"
   ]
  },
  {
   "cell_type": "code",
   "execution_count": 35,
   "id": "b099afed",
   "metadata": {},
   "outputs": [],
   "source": [
    "y_train = y_train.values.ravel()\n",
    "y_test = y_test.values.ravel()"
   ]
  },
  {
   "cell_type": "markdown",
   "id": "98256dcd",
   "metadata": {},
   "source": [
    "<a href=\"#toc\" role=\"button\" aria-pressed=\"true\" >🔝Back to Table of Contents🔝</a>"
   ]
  },
  {
   "cell_type": "markdown",
   "id": "7a72a6b0",
   "metadata": {},
   "source": [
    "<a id=\"8\"></a>\n",
    "## <b>8 <span style='color:#2b4f92'>Define and Train Models</span></b> "
   ]
  },
  {
   "cell_type": "code",
   "execution_count": 44,
   "id": "3c81f5bf",
   "metadata": {},
   "outputs": [
    {
     "name": "stdout",
     "output_type": "stream",
     "text": [
      "Scaler and Encoders loaded successfully.\n"
     ]
    }
   ],
   "source": [
    "try:\n",
    "    scaler = joblib.load(r\"D:\\SpaceCode_GraduationProject\\scaler.pkl\")\n",
    "    le_gender = joblib.load(r\"D:\\SpaceCode_GraduationProject\\gender_encoder.pkl\")\n",
    "    le_job_title = joblib.load(r\"D:\\SpaceCode_GraduationProject\\job_title_encoder.pkl\")\n",
    "    print(\"Scaler and Encoders loaded successfully.\")\n",
    "except FileNotFoundError:\n",
    "    print(\"Error: Scaler or Encoder files not found. Please run the preprocessing script first.\")\n",
    "    raise"
   ]
  },
  {
   "cell_type": "code",
   "execution_count": 36,
   "id": "6c2fdf8b",
   "metadata": {},
   "outputs": [],
   "source": [
    "# Initialize models\n",
    "models = {\n",
    "    'Linear Regression': LinearRegression(),\n",
    "    'Random Forest': RandomForestRegressor(n_estimators=100, random_state=42),\n",
    "    'XGBoost': XGBRegressor(n_estimators=100, random_state=42)\n",
    "}"
   ]
  },
  {
   "cell_type": "code",
   "execution_count": 37,
   "id": "90d00138",
   "metadata": {},
   "outputs": [
    {
     "name": "stdout",
     "output_type": "stream",
     "text": [
      "\n",
      "Results for Linear Regression:\n",
      "RMSE: 25349.14\n",
      "R2 Score: 0.76\n",
      "Cross-Validation R2: 0.77 (+/- 0.01)\n",
      "\n",
      "Results for Random Forest:\n",
      "RMSE: 11074.84\n",
      "R2 Score: 0.95\n",
      "Cross-Validation R2: 0.95 (+/- 0.01)\n",
      "\n",
      "Results for XGBoost:\n",
      "RMSE: 9560.87\n",
      "R2 Score: 0.97\n",
      "Cross-Validation R2: 0.96 (+/- 0.01)\n"
     ]
    }
   ],
   "source": [
    "# Dictionary to store results\n",
    "results = {}\n",
    "\n",
    "# Train and evaluate each model\n",
    "for name, model in models.items():\n",
    "    # Train the model\n",
    "    model.fit(X_train, y_train)\n",
    "    \n",
    "    # Predict on test set\n",
    "    y_pred = model.predict(X_test)\n",
    "    \n",
    "    # Calculate metrics\n",
    "    rmse = np.sqrt(mean_squared_error(y_test, y_pred))\n",
    "    r2 = r2_score(y_test, y_pred)\n",
    "    \n",
    "    # Perform 5-fold cross-validation\n",
    "    cv_scores = cross_val_score(model, X_train, y_train, cv=5, scoring='r2')\n",
    "    \n",
    "    # Store results\n",
    "    results[name] = {\n",
    "        'RMSE': rmse,\n",
    "        'R2': r2,\n",
    "        'Cross-Validation R2 (Mean)': np.mean(cv_scores),\n",
    "        'Cross-Validation R2 (Std)': np.std(cv_scores)\n",
    "    }\n",
    "    \n",
    "    # Print results\n",
    "    print(f\"\\nResults for {name}:\")\n",
    "    print(f\"RMSE: {rmse:.2f}\")\n",
    "    print(f\"R2 Score: {r2:.2f}\")\n",
    "    print(f\"Cross-Validation R2: {np.mean(cv_scores):.2f} (+/- {np.std(cv_scores):.2f})\")"
   ]
  },
  {
   "cell_type": "markdown",
   "id": "177a444c",
   "metadata": {},
   "source": [
    "<a id=\"9\"></a>\n",
    "## <b>9 <span style='color:#2b4f92'>Select and Save the Best Model</span></b> "
   ]
  },
  {
   "cell_type": "code",
   "execution_count": 38,
   "id": "f3d8c703",
   "metadata": {},
   "outputs": [],
   "source": [
    "# Find the model with the lowest RMSE\n",
    "best_model_name = min(results, key=lambda x: results[x]['RMSE'])\n",
    "best_model = models[best_model_name]"
   ]
  },
  {
   "cell_type": "code",
   "execution_count": 39,
   "id": "7233bb80",
   "metadata": {},
   "outputs": [
    {
     "name": "stdout",
     "output_type": "stream",
     "text": [
      "\n",
      "Best model (XGBoost) saved to: D:\\SpaceCode_GraduationProject\\best_model.pkl\n"
     ]
    }
   ],
   "source": [
    "# Save the best model\n",
    "joblib.dump(best_model, r\"D:\\SpaceCode_GraduationProject\\best_model.pkl\")\n",
    "print(f\"\\nBest model ({best_model_name}) saved to: D:\\\\SpaceCode_GraduationProject\\\\best_model.pkl\")"
   ]
  },
  {
   "cell_type": "code",
   "execution_count": 45,
   "id": "40583916",
   "metadata": {},
   "outputs": [
    {
     "name": "stdout",
     "output_type": "stream",
     "text": [
      "Scaler and encoders saved for app usage.\n"
     ]
    }
   ],
   "source": [
    "# Save the Scaler and Label Encoders (just in case they need to be overwritten)\n",
    "joblib.dump(scaler, r\"D:\\SpaceCode_GraduationProject\\scaler.pkl\")\n",
    "joblib.dump(le_gender, r\"D:\\SpaceCode_GraduationProject\\gender_encoder.pkl\")\n",
    "joblib.dump(le_job_title, r\"D:\\SpaceCode_GraduationProject\\job_title_encoder.pkl\")\n",
    "print(\"Scaler and encoders saved for app usage.\")"
   ]
  },
  {
   "cell_type": "markdown",
   "id": "65d32c6a",
   "metadata": {},
   "source": [
    "<a href=\"#toc\" role=\"button\" aria-pressed=\"true\" >🔝Back to Table of Contents🔝</a>"
   ]
  }
 ],
 "metadata": {
  "kernelspec": {
   "display_name": "Python 3",
   "language": "python",
   "name": "python3"
  },
  "language_info": {
   "codemirror_mode": {
    "name": "ipython",
    "version": 3
   },
   "file_extension": ".py",
   "mimetype": "text/x-python",
   "name": "python",
   "nbconvert_exporter": "python",
   "pygments_lexer": "ipython3",
   "version": "3.6.13"
  }
 },
 "nbformat": 4,
 "nbformat_minor": 5
}
